{
 "cells": [
  {
   "cell_type": "markdown",
   "id": "938f92ee",
   "metadata": {},
   "source": [
    "# Описание задачи"
   ]
  },
  {
   "cell_type": "markdown",
   "id": "0d6082e8",
   "metadata": {},
   "source": [
    "Задача построить аплифт модель, которая будет выдавать склонность клиента для выполнения целевого действия, после взаимодействия выбранной кампанией.\n",
    "\n",
    "Вкратце об отличии классического ml от uplift. В классическом ml у нас есть факт выполнения/наличия какого-то действия по заданным признакам, те если есть какие-то признаки, то результат должен быть один. В uplift моделировании у нас   есть факт выполнения действия при наличии или отсутствии взаимодействия, проблема в том, что нельзя одновременно знать как поведет себя пользователь при наличии и отсутствии взаимодействия. Те задача сводится к тому чтобы найти такие Y=1 (выполнение действия) только при наличии W=1 (наличии взаимодействия)\n",
    "\n",
    "В рамках данной задачи, нужно обучить модель находить такую группу клиентов, которая посетила сайт только после наличия коммуникации. "
   ]
  },
  {
   "cell_type": "code",
   "execution_count": 1,
   "id": "a32c5804",
   "metadata": {
    "scrolled": true
   },
   "outputs": [],
   "source": [
    "from utils.data.statistics import *\n",
    "from utils.data.preprocessing import *\n",
    "from utils.model.uplift import *"
   ]
  },
  {
   "cell_type": "code",
   "execution_count": 2,
   "id": "9b87c5cc",
   "metadata": {},
   "outputs": [],
   "source": [
    "import pandas as pd\n",
    "import numpy as np\n",
    "from scipy import stats as st\n",
    "import matplotlib.pyplot as plt\n",
    "import seaborn as sns\n",
    "from sklearn.compose import ColumnTransformer\n",
    "from sklearn.pipeline import Pipeline\n",
    "from sklearn.preprocessing import StandardScaler, OneHotEncoder\n",
    "from sklearn.model_selection import train_test_split\n",
    "from sklearn.model_selection import StratifiedShuffleSplit\n",
    "from xgboost import XGBRFClassifier\n",
    "from sklift.models import SoloModel, ClassTransformation, TwoModels\n",
    "from sklift.metrics import uplift_at_k\n",
    "from sklift.metrics import weighted_average_uplift\n",
    "from sklift.metrics import uplift_by_percentile\n",
    "from sklift.viz import plot_uplift_by_percentile\n",
    "from sklift.viz import plot_qini_curve\n",
    "from sklift.viz import plot_uplift_preds\n",
    "from sklift.viz import plot_uplift_curve\n",
    "import joblib"
   ]
  },
  {
   "cell_type": "code",
   "execution_count": 3,
   "id": "887ab7d7",
   "metadata": {},
   "outputs": [],
   "source": [
    "pd.set_option('display.max_columns', 100)"
   ]
  },
  {
   "cell_type": "code",
   "execution_count": 4,
   "id": "e47e2039",
   "metadata": {},
   "outputs": [],
   "source": [
    "df = read_dataframe()"
   ]
  },
  {
   "cell_type": "markdown",
   "id": "43afdfe6",
   "metadata": {},
   "source": [
    "minethatdata_womens_train.csv - файл с обучающей выборкой\n",
    "\n",
    "***Описание клиента до рассылки (контекст):***\n",
    "- Index - id пользователя\n",
    "- Recency - кол-во месяцев с последней покупки\n",
    "- History_segment - категория (по кол-ву у.е. потраченных за последний год)\n",
    "- History - кол-во $ потраченных за последний год\n",
    "- Mens - индикатор, - клиент купил товары для мужчин за последний год\n",
    "- Womens - индикатор, - клиент купил товары для женщин за последний год\n",
    "- Zip_code - региональная категория индексов. Urban, Suburban, Rural\n",
    "- Newbie - индикатор, новый клиент пришел в магазин в первый раз за последние\n",
    "месяцев\n",
    "- Channel - описывает способы приобретения клиентом товаров за последний год\n",
    "- Segment - mens e-mail / women’s e-mail / no e-mail ( no e-mail - controll group, women’s e-mail - treatment group)\n",
    "\n",
    "***Переменные описывающие клиента в течение недель после получения e-mail:***\n",
    "- Visit - индикатор, - клиент посетил сайт в последующие недели после рассылки (то для чего нужно построить uplift модель)\n",
    "- Conversion - индикатор, - клиент купил товары на сайте в последующие недели после рассылки\n",
    "- Spend - кол-во (у.е.) потраченных на покупки в последующие"
   ]
  },
  {
   "cell_type": "code",
   "execution_count": 5,
   "id": "4fa58128",
   "metadata": {},
   "outputs": [
    {
     "data": {
      "text/html": [
       "<div>\n",
       "<style scoped>\n",
       "    .dataframe tbody tr th:only-of-type {\n",
       "        vertical-align: middle;\n",
       "    }\n",
       "\n",
       "    .dataframe tbody tr th {\n",
       "        vertical-align: top;\n",
       "    }\n",
       "\n",
       "    .dataframe thead th {\n",
       "        text-align: right;\n",
       "    }\n",
       "</style>\n",
       "<table border=\"1\" class=\"dataframe\">\n",
       "  <thead>\n",
       "    <tr style=\"text-align: right;\">\n",
       "      <th></th>\n",
       "      <th>recency</th>\n",
       "      <th>history_segment</th>\n",
       "      <th>history</th>\n",
       "      <th>mens</th>\n",
       "      <th>womens</th>\n",
       "      <th>zip_code</th>\n",
       "      <th>newbie</th>\n",
       "      <th>channel</th>\n",
       "      <th>segment</th>\n",
       "      <th>visit</th>\n",
       "      <th>conversion</th>\n",
       "      <th>spend</th>\n",
       "    </tr>\n",
       "    <tr>\n",
       "      <th>index</th>\n",
       "      <th></th>\n",
       "      <th></th>\n",
       "      <th></th>\n",
       "      <th></th>\n",
       "      <th></th>\n",
       "      <th></th>\n",
       "      <th></th>\n",
       "      <th></th>\n",
       "      <th></th>\n",
       "      <th></th>\n",
       "      <th></th>\n",
       "      <th></th>\n",
       "    </tr>\n",
       "  </thead>\n",
       "  <tbody>\n",
       "    <tr>\n",
       "      <th>54222</th>\n",
       "      <td>10</td>\n",
       "      <td>1) $0 - $100</td>\n",
       "      <td>29.99</td>\n",
       "      <td>0</td>\n",
       "      <td>1</td>\n",
       "      <td>Surburban</td>\n",
       "      <td>1</td>\n",
       "      <td>Phone</td>\n",
       "      <td>No E-Mail</td>\n",
       "      <td>0</td>\n",
       "      <td>0</td>\n",
       "      <td>0.0</td>\n",
       "    </tr>\n",
       "    <tr>\n",
       "      <th>30074</th>\n",
       "      <td>6</td>\n",
       "      <td>3) $200 - $350</td>\n",
       "      <td>292.39</td>\n",
       "      <td>0</td>\n",
       "      <td>1</td>\n",
       "      <td>Rural</td>\n",
       "      <td>0</td>\n",
       "      <td>Phone</td>\n",
       "      <td>Womens E-Mail</td>\n",
       "      <td>0</td>\n",
       "      <td>0</td>\n",
       "      <td>0.0</td>\n",
       "    </tr>\n",
       "    <tr>\n",
       "      <th>2725</th>\n",
       "      <td>8</td>\n",
       "      <td>1) $0 - $100</td>\n",
       "      <td>35.57</td>\n",
       "      <td>1</td>\n",
       "      <td>0</td>\n",
       "      <td>Surburban</td>\n",
       "      <td>0</td>\n",
       "      <td>Phone</td>\n",
       "      <td>No E-Mail</td>\n",
       "      <td>0</td>\n",
       "      <td>0</td>\n",
       "      <td>0.0</td>\n",
       "    </tr>\n",
       "  </tbody>\n",
       "</table>\n",
       "</div>"
      ],
      "text/plain": [
       "       recency history_segment  history  mens  womens   zip_code  newbie  \\\n",
       "index                                                                      \n",
       "54222       10    1) $0 - $100    29.99     0       1  Surburban       1   \n",
       "30074        6  3) $200 - $350   292.39     0       1      Rural       0   \n",
       "2725         8    1) $0 - $100    35.57     1       0  Surburban       0   \n",
       "\n",
       "      channel        segment  visit  conversion  spend  \n",
       "index                                                   \n",
       "54222   Phone      No E-Mail      0           0    0.0  \n",
       "30074   Phone  Womens E-Mail      0           0    0.0  \n",
       "2725    Phone      No E-Mail      0           0    0.0  "
      ]
     },
     "execution_count": 5,
     "metadata": {},
     "output_type": "execute_result"
    }
   ],
   "source": [
    "df.head(3)"
   ]
  },
  {
   "cell_type": "code",
   "execution_count": 6,
   "id": "cc292591",
   "metadata": {
    "scrolled": false
   },
   "outputs": [
    {
     "name": "stdout",
     "output_type": "stream",
     "text": [
      "<class 'pandas.core.frame.DataFrame'>\n",
      "Int64Index: 21346 entries, 54222 to 24655\n",
      "Data columns (total 12 columns):\n",
      " #   Column           Non-Null Count  Dtype  \n",
      "---  ------           --------------  -----  \n",
      " 0   recency          21346 non-null  int64  \n",
      " 1   history_segment  21346 non-null  object \n",
      " 2   history          21346 non-null  float64\n",
      " 3   mens             21346 non-null  int64  \n",
      " 4   womens           21346 non-null  int64  \n",
      " 5   zip_code         21346 non-null  object \n",
      " 6   newbie           21346 non-null  int64  \n",
      " 7   channel          21346 non-null  object \n",
      " 8   segment          21346 non-null  object \n",
      " 9   visit            21346 non-null  int64  \n",
      " 10  conversion       21346 non-null  int64  \n",
      " 11  spend            21346 non-null  float64\n",
      "dtypes: float64(2), int64(6), object(4)\n",
      "memory usage: 2.1+ MB\n"
     ]
    }
   ],
   "source": [
    "df.info()"
   ]
  },
  {
   "cell_type": "code",
   "execution_count": 7,
   "id": "8cff23b6",
   "metadata": {
    "scrolled": false
   },
   "outputs": [
    {
     "data": {
      "text/html": [
       "<div>\n",
       "<style scoped>\n",
       "    .dataframe tbody tr th:only-of-type {\n",
       "        vertical-align: middle;\n",
       "    }\n",
       "\n",
       "    .dataframe tbody tr th {\n",
       "        vertical-align: top;\n",
       "    }\n",
       "\n",
       "    .dataframe thead th {\n",
       "        text-align: right;\n",
       "    }\n",
       "</style>\n",
       "<table border=\"1\" class=\"dataframe\">\n",
       "  <thead>\n",
       "    <tr style=\"text-align: right;\">\n",
       "      <th></th>\n",
       "      <th>recency</th>\n",
       "      <th>history</th>\n",
       "      <th>mens</th>\n",
       "      <th>womens</th>\n",
       "      <th>newbie</th>\n",
       "      <th>visit</th>\n",
       "      <th>conversion</th>\n",
       "      <th>spend</th>\n",
       "    </tr>\n",
       "  </thead>\n",
       "  <tbody>\n",
       "    <tr>\n",
       "      <th>count</th>\n",
       "      <td>21346.000000</td>\n",
       "      <td>21346.000000</td>\n",
       "      <td>21346.000000</td>\n",
       "      <td>21346.000000</td>\n",
       "      <td>21346.000000</td>\n",
       "      <td>21346.000000</td>\n",
       "      <td>21346.000000</td>\n",
       "      <td>21346.000000</td>\n",
       "    </tr>\n",
       "    <tr>\n",
       "      <th>mean</th>\n",
       "      <td>5.777663</td>\n",
       "      <td>242.426965</td>\n",
       "      <td>0.551110</td>\n",
       "      <td>0.550408</td>\n",
       "      <td>0.501968</td>\n",
       "      <td>0.125035</td>\n",
       "      <td>0.006746</td>\n",
       "      <td>0.858455</td>\n",
       "    </tr>\n",
       "    <tr>\n",
       "      <th>std</th>\n",
       "      <td>3.512457</td>\n",
       "      <td>255.637677</td>\n",
       "      <td>0.497393</td>\n",
       "      <td>0.497464</td>\n",
       "      <td>0.500008</td>\n",
       "      <td>0.330766</td>\n",
       "      <td>0.081858</td>\n",
       "      <td>14.028167</td>\n",
       "    </tr>\n",
       "    <tr>\n",
       "      <th>min</th>\n",
       "      <td>1.000000</td>\n",
       "      <td>29.990000</td>\n",
       "      <td>0.000000</td>\n",
       "      <td>0.000000</td>\n",
       "      <td>0.000000</td>\n",
       "      <td>0.000000</td>\n",
       "      <td>0.000000</td>\n",
       "      <td>0.000000</td>\n",
       "    </tr>\n",
       "    <tr>\n",
       "      <th>25%</th>\n",
       "      <td>2.000000</td>\n",
       "      <td>65.025000</td>\n",
       "      <td>0.000000</td>\n",
       "      <td>0.000000</td>\n",
       "      <td>0.000000</td>\n",
       "      <td>0.000000</td>\n",
       "      <td>0.000000</td>\n",
       "      <td>0.000000</td>\n",
       "    </tr>\n",
       "    <tr>\n",
       "      <th>50%</th>\n",
       "      <td>6.000000</td>\n",
       "      <td>159.090000</td>\n",
       "      <td>1.000000</td>\n",
       "      <td>1.000000</td>\n",
       "      <td>1.000000</td>\n",
       "      <td>0.000000</td>\n",
       "      <td>0.000000</td>\n",
       "      <td>0.000000</td>\n",
       "    </tr>\n",
       "    <tr>\n",
       "      <th>75%</th>\n",
       "      <td>9.000000</td>\n",
       "      <td>325.120000</td>\n",
       "      <td>1.000000</td>\n",
       "      <td>1.000000</td>\n",
       "      <td>1.000000</td>\n",
       "      <td>0.000000</td>\n",
       "      <td>0.000000</td>\n",
       "      <td>0.000000</td>\n",
       "    </tr>\n",
       "    <tr>\n",
       "      <th>max</th>\n",
       "      <td>12.000000</td>\n",
       "      <td>3345.930000</td>\n",
       "      <td>1.000000</td>\n",
       "      <td>1.000000</td>\n",
       "      <td>1.000000</td>\n",
       "      <td>1.000000</td>\n",
       "      <td>1.000000</td>\n",
       "      <td>499.000000</td>\n",
       "    </tr>\n",
       "  </tbody>\n",
       "</table>\n",
       "</div>"
      ],
      "text/plain": [
       "            recency       history          mens        womens        newbie  \\\n",
       "count  21346.000000  21346.000000  21346.000000  21346.000000  21346.000000   \n",
       "mean       5.777663    242.426965      0.551110      0.550408      0.501968   \n",
       "std        3.512457    255.637677      0.497393      0.497464      0.500008   \n",
       "min        1.000000     29.990000      0.000000      0.000000      0.000000   \n",
       "25%        2.000000     65.025000      0.000000      0.000000      0.000000   \n",
       "50%        6.000000    159.090000      1.000000      1.000000      1.000000   \n",
       "75%        9.000000    325.120000      1.000000      1.000000      1.000000   \n",
       "max       12.000000   3345.930000      1.000000      1.000000      1.000000   \n",
       "\n",
       "              visit    conversion         spend  \n",
       "count  21346.000000  21346.000000  21346.000000  \n",
       "mean       0.125035      0.006746      0.858455  \n",
       "std        0.330766      0.081858     14.028167  \n",
       "min        0.000000      0.000000      0.000000  \n",
       "25%        0.000000      0.000000      0.000000  \n",
       "50%        0.000000      0.000000      0.000000  \n",
       "75%        0.000000      0.000000      0.000000  \n",
       "max        1.000000      1.000000    499.000000  "
      ]
     },
     "execution_count": 7,
     "metadata": {},
     "output_type": "execute_result"
    }
   ],
   "source": [
    "df.describe()"
   ]
  },
  {
   "cell_type": "markdown",
   "id": "da63bbef",
   "metadata": {},
   "source": [
    "Построим корреляцию Пирсона, если найдем сильный линейный тренд м/у данными, то можем рассмотреть вариант исключения этих данных"
   ]
  },
  {
   "cell_type": "code",
   "execution_count": 8,
   "id": "acaceadb",
   "metadata": {
    "scrolled": false
   },
   "outputs": [
    {
     "data": {
      "image/png": "[encoded data removed]",
      "text/plain": [
       "<Figure size 720x720 with 2 Axes>"
      ]
     },
     "metadata": {
      "needs_background": "light"
     },
     "output_type": "display_data"
    }
   ],
   "source": [
    "get_dataframe_pearsoncorr(df)"
   ]
  },
  {
   "cell_type": "markdown",
   "id": "4bcca20b",
   "metadata": {},
   "source": [
    "Найдем категориальные столбцы"
   ]
  },
  {
   "cell_type": "markdown",
   "id": "789a6311",
   "metadata": {},
   "source": [
    "Womens и mens совпадают линейно на 82 процента, что не удивительно, а conversion и spent на 74 процента. Пока не будем удалять эти данные, но оставим за собой эту возможность, для следующей итерации"
   ]
  },
  {
   "cell_type": "code",
   "execution_count": 9,
   "id": "be18b76b",
   "metadata": {},
   "outputs": [
    {
     "name": "stdout",
     "output_type": "stream",
     "text": [
      "recency has 12 unique variables\n",
      "--------------------\n",
      "history_segment has 7 unique variables\n",
      "--------------------\n",
      "history has 15546 unique variables\n",
      "--------------------\n",
      "mens has 2 unique variables\n",
      "--------------------\n",
      "womens has 2 unique variables\n",
      "--------------------\n",
      "zip_code has 3 unique variables\n",
      "--------------------\n",
      "newbie has 2 unique variables\n",
      "--------------------\n",
      "channel has 3 unique variables\n",
      "--------------------\n",
      "segment has 2 unique variables\n",
      "--------------------\n",
      "visit has 2 unique variables\n",
      "--------------------\n",
      "conversion has 2 unique variables\n",
      "--------------------\n",
      "spend has 108 unique variables\n",
      "--------------------\n"
     ]
    }
   ],
   "source": [
    "get_dataframe_statistics(df)"
   ]
  },
  {
   "cell_type": "markdown",
   "id": "9607e2b2",
   "metadata": {},
   "source": [
    "Выделим для дальнейшего преобразования  history type и spend для стандартизации, history_segment, zip_code и channel для onehot encoding. Для переменных типа 1/0 преобразований делать не будем"
   ]
  },
  {
   "cell_type": "markdown",
   "id": "a0a38a7a",
   "metadata": {},
   "source": [
    "Переименуем segment в treatment_flg, а visit в target"
   ]
  },
  {
   "cell_type": "code",
   "execution_count": 10,
   "id": "9d4c8823",
   "metadata": {},
   "outputs": [],
   "source": [
    "df = prepare_treatment_target_columns(df)"
   ]
  },
  {
   "cell_type": "markdown",
   "id": "1e705219",
   "metadata": {},
   "source": [
    "Посмотрим на результат"
   ]
  },
  {
   "cell_type": "code",
   "execution_count": 11,
   "id": "1f0e70d2",
   "metadata": {},
   "outputs": [
    {
     "data": {
      "text/html": [
       "<div>\n",
       "<style scoped>\n",
       "    .dataframe tbody tr th:only-of-type {\n",
       "        vertical-align: middle;\n",
       "    }\n",
       "\n",
       "    .dataframe tbody tr th {\n",
       "        vertical-align: top;\n",
       "    }\n",
       "\n",
       "    .dataframe thead th {\n",
       "        text-align: right;\n",
       "    }\n",
       "</style>\n",
       "<table border=\"1\" class=\"dataframe\">\n",
       "  <thead>\n",
       "    <tr style=\"text-align: right;\">\n",
       "      <th></th>\n",
       "      <th>recency</th>\n",
       "      <th>history_segment</th>\n",
       "      <th>history</th>\n",
       "      <th>mens</th>\n",
       "      <th>womens</th>\n",
       "      <th>zip_code</th>\n",
       "      <th>newbie</th>\n",
       "      <th>channel</th>\n",
       "      <th>treatment_flg</th>\n",
       "      <th>target</th>\n",
       "      <th>conversion</th>\n",
       "      <th>spend</th>\n",
       "    </tr>\n",
       "    <tr>\n",
       "      <th>index</th>\n",
       "      <th></th>\n",
       "      <th></th>\n",
       "      <th></th>\n",
       "      <th></th>\n",
       "      <th></th>\n",
       "      <th></th>\n",
       "      <th></th>\n",
       "      <th></th>\n",
       "      <th></th>\n",
       "      <th></th>\n",
       "      <th></th>\n",
       "      <th></th>\n",
       "    </tr>\n",
       "  </thead>\n",
       "  <tbody>\n",
       "    <tr>\n",
       "      <th>54222</th>\n",
       "      <td>10</td>\n",
       "      <td>1) $0 - $100</td>\n",
       "      <td>29.99</td>\n",
       "      <td>0</td>\n",
       "      <td>1</td>\n",
       "      <td>Surburban</td>\n",
       "      <td>1</td>\n",
       "      <td>Phone</td>\n",
       "      <td>0</td>\n",
       "      <td>0</td>\n",
       "      <td>0</td>\n",
       "      <td>0.0</td>\n",
       "    </tr>\n",
       "    <tr>\n",
       "      <th>30074</th>\n",
       "      <td>6</td>\n",
       "      <td>3) $200 - $350</td>\n",
       "      <td>292.39</td>\n",
       "      <td>0</td>\n",
       "      <td>1</td>\n",
       "      <td>Rural</td>\n",
       "      <td>0</td>\n",
       "      <td>Phone</td>\n",
       "      <td>1</td>\n",
       "      <td>0</td>\n",
       "      <td>0</td>\n",
       "      <td>0.0</td>\n",
       "    </tr>\n",
       "    <tr>\n",
       "      <th>2725</th>\n",
       "      <td>8</td>\n",
       "      <td>1) $0 - $100</td>\n",
       "      <td>35.57</td>\n",
       "      <td>1</td>\n",
       "      <td>0</td>\n",
       "      <td>Surburban</td>\n",
       "      <td>0</td>\n",
       "      <td>Phone</td>\n",
       "      <td>0</td>\n",
       "      <td>0</td>\n",
       "      <td>0</td>\n",
       "      <td>0.0</td>\n",
       "    </tr>\n",
       "  </tbody>\n",
       "</table>\n",
       "</div>"
      ],
      "text/plain": [
       "       recency history_segment  history  mens  womens   zip_code  newbie  \\\n",
       "index                                                                      \n",
       "54222       10    1) $0 - $100    29.99     0       1  Surburban       1   \n",
       "30074        6  3) $200 - $350   292.39     0       1      Rural       0   \n",
       "2725         8    1) $0 - $100    35.57     1       0  Surburban       0   \n",
       "\n",
       "      channel  treatment_flg  target  conversion  spend  \n",
       "index                                                    \n",
       "54222   Phone              0       0           0    0.0  \n",
       "30074   Phone              1       0           0    0.0  \n",
       "2725    Phone              0       0           0    0.0  "
      ]
     },
     "execution_count": 11,
     "metadata": {},
     "output_type": "execute_result"
    }
   ],
   "source": [
    "df.head(3)"
   ]
  },
  {
   "cell_type": "markdown",
   "id": "d87cf458",
   "metadata": {},
   "source": [
    "Посмотрим в каком отношении разбили клиентов для проведения кампании"
   ]
  },
  {
   "cell_type": "code",
   "execution_count": 12,
   "id": "02793041",
   "metadata": {
    "scrolled": true
   },
   "outputs": [
    {
     "name": "stdout",
     "output_type": "stream",
     "text": [
      "0 10637\n",
      "1 10709\n"
     ]
    }
   ],
   "source": [
    "for i in df['treatment_flg'].unique():\n",
    "    print(i, df[df['treatment_flg'] == i]['treatment_flg'].count())"
   ]
  },
  {
   "cell_type": "markdown",
   "id": "394d6318",
   "metadata": {},
   "source": [
    "Видно, что отношение 1:1, следовательно можем использовать в том числе и модель трансформации классов, но об этом чуть позже"
   ]
  },
  {
   "cell_type": "markdown",
   "id": "b33137b0",
   "metadata": {},
   "source": [
    "Посмотрим в каком отношении разбили клиентов для проведения кампании, относительно каналов через которые они совершали покупки"
   ]
  },
  {
   "cell_type": "code",
   "execution_count": 13,
   "id": "92447944",
   "metadata": {},
   "outputs": [
    {
     "name": "stderr",
     "output_type": "stream",
     "text": [
      "/opt/conda/lib/python3.9/site-packages/seaborn/axisgrid.py:670: UserWarning: Using the barplot function without specifying `order` is likely to produce an incorrect plot.\n",
      "  warnings.warn(warning)\n"
     ]
    },
    {
     "data": {
      "text/plain": [
       "<seaborn.axisgrid.FacetGrid at 0x7f7f84c274c0>"
      ]
     },
     "execution_count": 13,
     "metadata": {},
     "output_type": "execute_result"
    },
    {
     "data": {
      "image/png": "[encoded data removed]",
      "text/plain": [
       "<Figure size 648x216 with 3 Axes>"
      ]
     },
     "metadata": {
      "needs_background": "light"
     },
     "output_type": "display_data"
    }
   ],
   "source": [
    "g = sns.FacetGrid(df, col=\"channel\", height=3, aspect=1)\n",
    "g.map(sns.barplot, \"treatment_flg\", 'history')"
   ]
  },
  {
   "cell_type": "markdown",
   "id": "82fd14d3",
   "metadata": {},
   "source": [
    "Видно, что данные были взяты случайным образом, поэтому история покупок совпадает по всем каналам"
   ]
  },
  {
   "cell_type": "markdown",
   "id": "75140689",
   "metadata": {},
   "source": [
    "Посмотрим, как изменилось поведение клиентов после кампании, будет ли наблюдаться увеличение доли покупок у клиентов, с которыми провзаимодействовали"
   ]
  },
  {
   "cell_type": "code",
   "execution_count": 14,
   "id": "55c766f9",
   "metadata": {
    "scrolled": true
   },
   "outputs": [
    {
     "name": "stderr",
     "output_type": "stream",
     "text": [
      "/opt/conda/lib/python3.9/site-packages/seaborn/axisgrid.py:670: UserWarning: Using the barplot function without specifying `order` is likely to produce an incorrect plot.\n",
      "  warnings.warn(warning)\n"
     ]
    },
    {
     "data": {
      "text/plain": [
       "<seaborn.axisgrid.FacetGrid at 0x7f7f7c8260a0>"
      ]
     },
     "execution_count": 14,
     "metadata": {},
     "output_type": "execute_result"
    },
    {
     "data": {
      "image/png": "[encoded data removed]",
      "text/plain": [
       "<Figure size 648x216 with 3 Axes>"
      ]
     },
     "metadata": {
      "needs_background": "light"
     },
     "output_type": "display_data"
    }
   ],
   "source": [
    "g = sns.FacetGrid(df, col=\"channel\", height=3, aspect=1)\n",
    "g.map(sns.barplot, \"treatment_flg\", 'target')"
   ]
  },
  {
   "cell_type": "markdown",
   "id": "623631a0",
   "metadata": {},
   "source": [
    "Видно, что есть положительный эффект от кампании, попробуем выяснить, получилось ли это случайным образом или это есть тот самый uplift"
   ]
  },
  {
   "cell_type": "markdown",
   "id": "86e5722b",
   "metadata": {},
   "source": [
    "**Проверка гипотезы о равенстве среднего двух генеральных совокупностей по взятым из них выборкам**\n",
    "\n",
    "То есть за нулевую гипотезу берем предположение, что после проведения кампании, число визитов на сайте не поменялось. Если статитистическая значимость превысит порог в 0.05, то нулевую гипотезу отвергнуть не сможем"
   ]
  },
  {
   "cell_type": "code",
   "execution_count": 15,
   "id": "220deab2",
   "metadata": {},
   "outputs": [],
   "source": [
    "sample_without_treatment = df[df['treatment_flg'] == 0]['target'].values\n",
    "sample_with_treatment = df[df['treatment_flg'] == 1]['target'].values"
   ]
  },
  {
   "cell_type": "markdown",
   "id": "55e1fd22",
   "metadata": {},
   "source": [
    "Найдем разниму между целевыми переменными для treatment и контрольной групп"
   ]
  },
  {
   "cell_type": "code",
   "execution_count": 16,
   "id": "b841abe9",
   "metadata": {},
   "outputs": [
    {
     "data": {
      "text/plain": [
       "(0.10172040989000658, 0.30228028070288615)"
      ]
     },
     "execution_count": 16,
     "metadata": {},
     "output_type": "execute_result"
    }
   ],
   "source": [
    "sample_without_treatment.mean(), sample_without_treatment.std()"
   ]
  },
  {
   "cell_type": "code",
   "execution_count": 17,
   "id": "74bd4dcc",
   "metadata": {},
   "outputs": [
    {
     "data": {
      "text/plain": [
       "(0.1481931086002428, 0.35529130465526376)"
      ]
     },
     "execution_count": 17,
     "metadata": {},
     "output_type": "execute_result"
    }
   ],
   "source": [
    "sample_with_treatment.mean(), sample_with_treatment.std()"
   ]
  },
  {
   "cell_type": "code",
   "execution_count": 18,
   "id": "f4d78d7e",
   "metadata": {},
   "outputs": [
    {
     "data": {
      "text/plain": [
       "0.04647269871023621"
      ]
     },
     "execution_count": 18,
     "metadata": {},
     "output_type": "execute_result"
    }
   ],
   "source": [
    "sample_with_treatment.mean() - sample_without_treatment.mean()"
   ]
  },
  {
   "cell_type": "markdown",
   "id": "0d25494f",
   "metadata": {},
   "source": [
    "Среднее отличается на 4.6 процента по откликам группы на которую делали кампанию от той, где кампании не было"
   ]
  },
  {
   "cell_type": "markdown",
   "id": "bcee74e8",
   "metadata": {},
   "source": [
    "Проверим нулевую гипотезу и проверим случайная ли это величина или увеличение откликов связано с проведением кампании"
   ]
  },
  {
   "cell_type": "code",
   "execution_count": 19,
   "id": "5e18ac87",
   "metadata": {},
   "outputs": [],
   "source": [
    "statistic, pvalue = st.ttest_ind(sample_without_treatment,\n",
    "                                 sample_with_treatment,\n",
    "                                 equal_var=False)"
   ]
  },
  {
   "cell_type": "code",
   "execution_count": 20,
   "id": "0b8cbc36",
   "metadata": {},
   "outputs": [
    {
     "name": "stdout",
     "output_type": "stream",
     "text": [
      "statistic = -10.29, pvalue = 0.00000000000000000000000086\n"
     ]
    }
   ],
   "source": [
    "print('statistic = {:.2f}, pvalue = {:.26f}'.format(statistic, pvalue))"
   ]
  },
  {
   "cell_type": "code",
   "execution_count": 21,
   "id": "5559927d",
   "metadata": {},
   "outputs": [
    {
     "name": "stdout",
     "output_type": "stream",
     "text": [
      "p-значение = 8.562583501755613e-25  < 0.05 можно отвергнуть нулевую гипотезу\n"
     ]
    }
   ],
   "source": [
    "print('p-значение =', pvalue, ' < 0.05', 'можно отвергнуть нулевую гипотезу')"
   ]
  },
  {
   "cell_type": "markdown",
   "id": "b8b01ca2",
   "metadata": {},
   "source": [
    "Так как можем отвергнуть нулевую гипотезу, то будем искать тех клиентов на которых влияет кампания.Тут можно остановиться и сделать промежуточный вывод: так как виден эффек uplift для группы treatment и он не случаен, то если 4.6 это достаточный эффек прироста кликов, то можно и не делать дальнейшие шаги по поиску модели определяющей группы клиентов на которых взаимодействие принесет положительный эффект. Те можно просто сделать рассылку на всех и получить прирост по кликам на 4.6 процента."
   ]
  },
  {
   "cell_type": "markdown",
   "id": "3a34028a",
   "metadata": {},
   "source": [
    "Но так как мы решили делать uplift, а не просто повышать кликабельность, продолжим анализировать данные, а именно займемся их подготовкой."
   ]
  },
  {
   "cell_type": "markdown",
   "id": "0ddecb4b",
   "metadata": {},
   "source": [
    "Разобьем на треин и тест"
   ]
  },
  {
   "cell_type": "code",
   "execution_count": 22,
   "id": "77bfb956",
   "metadata": {},
   "outputs": [],
   "source": [
    "train, test = str_shuf_train_test_split(df)\n",
    "train, test = str_shuf_train_test_split(df)"
   ]
  },
  {
   "cell_type": "markdown",
   "id": "8429e4f3",
   "metadata": {},
   "source": [
    "Сравним как отличаются среднии по таргету в treatment и control группах, в исходном датафрейме, трейне и тесте"
   ]
  },
  {
   "cell_type": "code",
   "execution_count": 23,
   "id": "720bf896",
   "metadata": {},
   "outputs": [
    {
     "data": {
      "text/plain": [
       "count    72.000000\n",
       "mean      0.046473\n",
       "std       0.053013\n",
       "min       0.000000\n",
       "25%       0.000000\n",
       "50%       0.000000\n",
       "75%       0.000000\n",
       "max       0.000000\n",
       "Name: target, dtype: float64"
      ]
     },
     "execution_count": 23,
     "metadata": {},
     "output_type": "execute_result"
    }
   ],
   "source": [
    "df[df['treatment_flg'] == 1]['target'].describe() - df[df['treatment_flg'] == 0]['target'].describe()"
   ]
  },
  {
   "cell_type": "code",
   "execution_count": 24,
   "id": "db56381d",
   "metadata": {},
   "outputs": [
    {
     "data": {
      "text/plain": [
       "count    123.000000\n",
       "mean       0.048759\n",
       "std        0.054473\n",
       "min        0.000000\n",
       "25%        0.000000\n",
       "50%        0.000000\n",
       "75%        0.000000\n",
       "max        0.000000\n",
       "Name: target, dtype: float64"
      ]
     },
     "execution_count": 24,
     "metadata": {},
     "output_type": "execute_result"
    }
   ],
   "source": [
    "train[train['treatment_flg'] == 1]['target'].describe() - train[train['treatment_flg'] == 0]['target'].describe()"
   ]
  },
  {
   "cell_type": "code",
   "execution_count": 25,
   "id": "e0f592f7",
   "metadata": {},
   "outputs": [
    {
     "data": {
      "text/plain": [
       "count   -51.000000\n",
       "mean      0.044073\n",
       "std       0.051360\n",
       "min       0.000000\n",
       "25%       0.000000\n",
       "50%       0.000000\n",
       "75%       0.000000\n",
       "max       0.000000\n",
       "Name: target, dtype: float64"
      ]
     },
     "execution_count": 25,
     "metadata": {},
     "output_type": "execute_result"
    }
   ],
   "source": [
    "test[test['treatment_flg'] == 1]['target'].describe() - test[test['treatment_flg'] == 0]['target'].describe()"
   ]
  },
  {
   "cell_type": "markdown",
   "id": "fddede6d",
   "metadata": {},
   "source": [
    "Флуктуации в диапазоне меньше 1 процетнта, можно говорить об успешном разбиении"
   ]
  },
  {
   "cell_type": "markdown",
   "id": "d34bbd43",
   "metadata": {},
   "source": [
    "Трансформируем данные.  history type и spend стандартизируем, для history_segment, zip_code и channel применяем onehot encoding."
   ]
  },
  {
   "cell_type": "code",
   "execution_count": 26,
   "id": "785c5829",
   "metadata": {
    "scrolled": true
   },
   "outputs": [],
   "source": [
    "train_transformed, test_transformed = full_preprocessing_pipline(train, test, df)"
   ]
  },
  {
   "cell_type": "code",
   "execution_count": 27,
   "id": "076d81df",
   "metadata": {
    "scrolled": true
   },
   "outputs": [
    {
     "data": {
      "text/html": [
       "<div>\n",
       "<style scoped>\n",
       "    .dataframe tbody tr th:only-of-type {\n",
       "        vertical-align: middle;\n",
       "    }\n",
       "\n",
       "    .dataframe tbody tr th {\n",
       "        vertical-align: top;\n",
       "    }\n",
       "\n",
       "    .dataframe thead th {\n",
       "        text-align: right;\n",
       "    }\n",
       "</style>\n",
       "<table border=\"1\" class=\"dataframe\">\n",
       "  <thead>\n",
       "    <tr style=\"text-align: right;\">\n",
       "      <th></th>\n",
       "      <th>history</th>\n",
       "      <th>spend</th>\n",
       "      <th>history_segment_2</th>\n",
       "      <th>history_segment_3</th>\n",
       "      <th>history_segment_4</th>\n",
       "      <th>history_segment_5</th>\n",
       "      <th>history_segment_6</th>\n",
       "      <th>history_segment_7</th>\n",
       "      <th>zip_code_Rural</th>\n",
       "      <th>zip_code_Urban</th>\n",
       "      <th>channel_Multichannel</th>\n",
       "      <th>channel_Web</th>\n",
       "      <th>womens</th>\n",
       "      <th>mens</th>\n",
       "      <th>newbie</th>\n",
       "      <th>target</th>\n",
       "      <th>recency</th>\n",
       "      <th>conversion</th>\n",
       "      <th>treatment_flg</th>\n",
       "    </tr>\n",
       "    <tr>\n",
       "      <th>index</th>\n",
       "      <th></th>\n",
       "      <th></th>\n",
       "      <th></th>\n",
       "      <th></th>\n",
       "      <th></th>\n",
       "      <th></th>\n",
       "      <th></th>\n",
       "      <th></th>\n",
       "      <th></th>\n",
       "      <th></th>\n",
       "      <th></th>\n",
       "      <th></th>\n",
       "      <th></th>\n",
       "      <th></th>\n",
       "      <th></th>\n",
       "      <th></th>\n",
       "      <th></th>\n",
       "      <th></th>\n",
       "      <th></th>\n",
       "    </tr>\n",
       "  </thead>\n",
       "  <tbody>\n",
       "    <tr>\n",
       "      <th>56780</th>\n",
       "      <td>-0.826870</td>\n",
       "      <td>-0.063007</td>\n",
       "      <td>0.0</td>\n",
       "      <td>0.0</td>\n",
       "      <td>0.0</td>\n",
       "      <td>0.0</td>\n",
       "      <td>0.0</td>\n",
       "      <td>0.0</td>\n",
       "      <td>0.0</td>\n",
       "      <td>0.0</td>\n",
       "      <td>0.0</td>\n",
       "      <td>1.0</td>\n",
       "      <td>1</td>\n",
       "      <td>0</td>\n",
       "      <td>0</td>\n",
       "      <td>0</td>\n",
       "      <td>9</td>\n",
       "      <td>0</td>\n",
       "      <td>0</td>\n",
       "    </tr>\n",
       "    <tr>\n",
       "      <th>62165</th>\n",
       "      <td>-0.193770</td>\n",
       "      <td>-0.063007</td>\n",
       "      <td>1.0</td>\n",
       "      <td>0.0</td>\n",
       "      <td>0.0</td>\n",
       "      <td>0.0</td>\n",
       "      <td>0.0</td>\n",
       "      <td>0.0</td>\n",
       "      <td>0.0</td>\n",
       "      <td>1.0</td>\n",
       "      <td>0.0</td>\n",
       "      <td>0.0</td>\n",
       "      <td>0</td>\n",
       "      <td>1</td>\n",
       "      <td>1</td>\n",
       "      <td>0</td>\n",
       "      <td>5</td>\n",
       "      <td>0</td>\n",
       "      <td>1</td>\n",
       "    </tr>\n",
       "    <tr>\n",
       "      <th>2958</th>\n",
       "      <td>7.423522</td>\n",
       "      <td>-0.063007</td>\n",
       "      <td>0.0</td>\n",
       "      <td>0.0</td>\n",
       "      <td>0.0</td>\n",
       "      <td>0.0</td>\n",
       "      <td>0.0</td>\n",
       "      <td>1.0</td>\n",
       "      <td>0.0</td>\n",
       "      <td>1.0</td>\n",
       "      <td>1.0</td>\n",
       "      <td>0.0</td>\n",
       "      <td>0</td>\n",
       "      <td>1</td>\n",
       "      <td>1</td>\n",
       "      <td>0</td>\n",
       "      <td>1</td>\n",
       "      <td>0</td>\n",
       "      <td>1</td>\n",
       "    </tr>\n",
       "  </tbody>\n",
       "</table>\n",
       "</div>"
      ],
      "text/plain": [
       "        history     spend  history_segment_2  history_segment_3  \\\n",
       "index                                                             \n",
       "56780 -0.826870 -0.063007                0.0                0.0   \n",
       "62165 -0.193770 -0.063007                1.0                0.0   \n",
       "2958   7.423522 -0.063007                0.0                0.0   \n",
       "\n",
       "       history_segment_4  history_segment_5  history_segment_6  \\\n",
       "index                                                            \n",
       "56780                0.0                0.0                0.0   \n",
       "62165                0.0                0.0                0.0   \n",
       "2958                 0.0                0.0                0.0   \n",
       "\n",
       "       history_segment_7  zip_code_Rural  zip_code_Urban  \\\n",
       "index                                                      \n",
       "56780                0.0             0.0             0.0   \n",
       "62165                0.0             0.0             1.0   \n",
       "2958                 1.0             0.0             1.0   \n",
       "\n",
       "       channel_Multichannel  channel_Web  womens  mens  newbie  target  \\\n",
       "index                                                                    \n",
       "56780                   0.0          1.0       1     0       0       0   \n",
       "62165                   0.0          0.0       0     1       1       0   \n",
       "2958                    1.0          0.0       0     1       1       0   \n",
       "\n",
       "       recency  conversion  treatment_flg  \n",
       "index                                      \n",
       "56780        9           0              0  \n",
       "62165        5           0              1  \n",
       "2958         1           0              1  "
      ]
     },
     "execution_count": 27,
     "metadata": {},
     "output_type": "execute_result"
    }
   ],
   "source": [
    "train_transformed.head(3)"
   ]
  },
  {
   "cell_type": "markdown",
   "id": "04e82d5e",
   "metadata": {},
   "source": [
    "Разобьем данные на X, y, treat для использования библиотеки sklift"
   ]
  },
  {
   "cell_type": "code",
   "execution_count": 28,
   "id": "39d072bc",
   "metadata": {},
   "outputs": [],
   "source": [
    "X_train, y_train, treat_train = prepare_data_for_sklift(train_transformed)"
   ]
  },
  {
   "cell_type": "code",
   "execution_count": 29,
   "id": "ef4de3a6",
   "metadata": {},
   "outputs": [],
   "source": [
    "X_test, y_test, treat_test = prepare_data_for_sklift(test_transformed)"
   ]
  },
  {
   "cell_type": "code",
   "execution_count": 30,
   "id": "64c77feb",
   "metadata": {},
   "outputs": [
    {
     "data": {
      "text/html": [
       "<div>\n",
       "<style scoped>\n",
       "    .dataframe tbody tr th:only-of-type {\n",
       "        vertical-align: middle;\n",
       "    }\n",
       "\n",
       "    .dataframe tbody tr th {\n",
       "        vertical-align: top;\n",
       "    }\n",
       "\n",
       "    .dataframe thead th {\n",
       "        text-align: right;\n",
       "    }\n",
       "</style>\n",
       "<table border=\"1\" class=\"dataframe\">\n",
       "  <thead>\n",
       "    <tr style=\"text-align: right;\">\n",
       "      <th></th>\n",
       "      <th>history</th>\n",
       "      <th>spend</th>\n",
       "      <th>history_segment_2</th>\n",
       "      <th>history_segment_3</th>\n",
       "      <th>history_segment_4</th>\n",
       "      <th>history_segment_5</th>\n",
       "      <th>history_segment_6</th>\n",
       "      <th>history_segment_7</th>\n",
       "      <th>zip_code_Rural</th>\n",
       "      <th>zip_code_Urban</th>\n",
       "      <th>channel_Multichannel</th>\n",
       "      <th>channel_Web</th>\n",
       "      <th>womens</th>\n",
       "      <th>mens</th>\n",
       "      <th>newbie</th>\n",
       "      <th>recency</th>\n",
       "      <th>conversion</th>\n",
       "    </tr>\n",
       "    <tr>\n",
       "      <th>index</th>\n",
       "      <th></th>\n",
       "      <th></th>\n",
       "      <th></th>\n",
       "      <th></th>\n",
       "      <th></th>\n",
       "      <th></th>\n",
       "      <th></th>\n",
       "      <th></th>\n",
       "      <th></th>\n",
       "      <th></th>\n",
       "      <th></th>\n",
       "      <th></th>\n",
       "      <th></th>\n",
       "      <th></th>\n",
       "      <th></th>\n",
       "      <th></th>\n",
       "      <th></th>\n",
       "    </tr>\n",
       "  </thead>\n",
       "  <tbody>\n",
       "    <tr>\n",
       "      <th>58483</th>\n",
       "      <td>-0.673299</td>\n",
       "      <td>-0.063007</td>\n",
       "      <td>0.0</td>\n",
       "      <td>0.0</td>\n",
       "      <td>0.0</td>\n",
       "      <td>0.0</td>\n",
       "      <td>0.0</td>\n",
       "      <td>0.0</td>\n",
       "      <td>0.0</td>\n",
       "      <td>1.0</td>\n",
       "      <td>0.0</td>\n",
       "      <td>1.0</td>\n",
       "      <td>1</td>\n",
       "      <td>0</td>\n",
       "      <td>1</td>\n",
       "      <td>5</td>\n",
       "      <td>0</td>\n",
       "    </tr>\n",
       "    <tr>\n",
       "      <th>54369</th>\n",
       "      <td>-0.394863</td>\n",
       "      <td>-0.063007</td>\n",
       "      <td>1.0</td>\n",
       "      <td>0.0</td>\n",
       "      <td>0.0</td>\n",
       "      <td>0.0</td>\n",
       "      <td>0.0</td>\n",
       "      <td>0.0</td>\n",
       "      <td>0.0</td>\n",
       "      <td>1.0</td>\n",
       "      <td>0.0</td>\n",
       "      <td>1.0</td>\n",
       "      <td>0</td>\n",
       "      <td>1</td>\n",
       "      <td>0</td>\n",
       "      <td>1</td>\n",
       "      <td>0</td>\n",
       "    </tr>\n",
       "    <tr>\n",
       "      <th>19512</th>\n",
       "      <td>-0.617389</td>\n",
       "      <td>-0.063007</td>\n",
       "      <td>0.0</td>\n",
       "      <td>0.0</td>\n",
       "      <td>0.0</td>\n",
       "      <td>0.0</td>\n",
       "      <td>0.0</td>\n",
       "      <td>0.0</td>\n",
       "      <td>1.0</td>\n",
       "      <td>0.0</td>\n",
       "      <td>0.0</td>\n",
       "      <td>1.0</td>\n",
       "      <td>0</td>\n",
       "      <td>1</td>\n",
       "      <td>1</td>\n",
       "      <td>1</td>\n",
       "      <td>0</td>\n",
       "    </tr>\n",
       "  </tbody>\n",
       "</table>\n",
       "</div>"
      ],
      "text/plain": [
       "        history     spend  history_segment_2  history_segment_3  \\\n",
       "index                                                             \n",
       "58483 -0.673299 -0.063007                0.0                0.0   \n",
       "54369 -0.394863 -0.063007                1.0                0.0   \n",
       "19512 -0.617389 -0.063007                0.0                0.0   \n",
       "\n",
       "       history_segment_4  history_segment_5  history_segment_6  \\\n",
       "index                                                            \n",
       "58483                0.0                0.0                0.0   \n",
       "54369                0.0                0.0                0.0   \n",
       "19512                0.0                0.0                0.0   \n",
       "\n",
       "       history_segment_7  zip_code_Rural  zip_code_Urban  \\\n",
       "index                                                      \n",
       "58483                0.0             0.0             1.0   \n",
       "54369                0.0             0.0             1.0   \n",
       "19512                0.0             1.0             0.0   \n",
       "\n",
       "       channel_Multichannel  channel_Web  womens  mens  newbie  recency  \\\n",
       "index                                                                     \n",
       "58483                   0.0          1.0       1     0       1        5   \n",
       "54369                   0.0          1.0       0     1       0        1   \n",
       "19512                   0.0          1.0       0     1       1        1   \n",
       "\n",
       "       conversion  \n",
       "index              \n",
       "58483           0  \n",
       "54369           0  \n",
       "19512           0  "
      ]
     },
     "execution_count": 30,
     "metadata": {},
     "output_type": "execute_result"
    }
   ],
   "source": [
    "X_test.head(3)"
   ]
  },
  {
   "cell_type": "markdown",
   "id": "a6af68a4",
   "metadata": {},
   "source": [
    "# ВЫБОР МОДЕЛИ"
   ]
  },
  {
   "cell_type": "markdown",
   "id": "6a2dec64",
   "metadata": {},
   "source": [
    "Далее опишем какие модели использовались для решения задачи uplift. Интернет особо не блещет изъяснениями на данную тему, а крупицы доступной информации на русском повторяются из источника в источник, в свою очередь анлоглоязычной информации чуть больше, но она была сжата и переведена на русский язык. А как было сказано выше, все что сжато и переведено - повторяет друг друга. Поэтому продолжая традицию копи паста, привожу алгоритмы моделей, которые были использованы в данном задании с их небольшим описанием, естественно скопированного из других источников(например https://nbviewer.jupyter.org/github/maks-sh/scikit-uplift/blob/master/notebooks/RetailHero.ipynb).\n",
    "\n",
    "Далее все что <font color='blue'>синим</font> не мои мысли."
   ]
  },
  {
   "cell_type": "markdown",
   "id": "b2e5902f",
   "metadata": {},
   "source": [
    "## 1. Подходы с одной моделью"
   ]
  },
  {
   "cell_type": "markdown",
   "id": "0b59aafd",
   "metadata": {},
   "source": [
    "### 1.1 Одна модель с признаком коммуникации\n",
    "<font color='blue'>Самое простое и интуитивное решение: модель обучается одновременно на двух группах, при этом бинарный флаг коммуникации выступает в качестве дополнительного признака. Каждый объект из тестовой выборки скорим дважды: с флагом коммуникации равным 1 и равным 0. Вычитая вероятности по каждому наблюдению, получим искомы uplift.</font> \n",
    "\n",
    "\n",
    "<p align=\"center\">\n",
    "  <img src=\"https://raw.githubusercontent.com/maks-sh/scikit-uplift/master/docs/_static/images/SoloModel_RU.png\" alt=\"Solo model with treatment as a feature\"/>\n",
    "</p>"
   ]
  },
  {
   "cell_type": "markdown",
   "id": "f7ab013b",
   "metadata": {},
   "source": [
    "### 1.2 Трансформация классов\n",
    "\n",
    "<font color='blue'>Достаточно интересный и математически подтвержденный подход к построению модели, представленный еще в 2012 году. Метод заключается в прогнозировании немного измененного таргета:</font> \n",
    "\n",
    "$$\n",
    "Z_i = Y_i \\cdot W_i + (1 - Y_i) \\cdot (1 - W_i),\n",
    "$$\n",
    "<font color='blue'>где \n",
    "\n",
    "* $Z_i$ - новая целевая переменная $i$-ого клиента; \n",
    "* $Y_i$ - целевая перемнная $i$-ого клиента;\n",
    "* $W_i$ - флаг коммуникации $i$-ого клиента;  \n",
    "</font> \n",
    "\n",
    "\n",
    "<font color='blue'>Другими словами, новый класс равен 1, если мы знаем, что на конкретном наблюдении, результат при взаимодействии был бы таким же хорошим, как и в контрольной группе, если бы мы могли знать результат в обеих группах:</font> \n",
    "\n",
    "$$\n",
    "Z_i = \\begin{cases}\n",
    "    1, & \\mbox{if } W_i = 1 \\mbox{ and } Y_i = 1 \\\\\n",
    "    1, & \\mbox{if } W_i = 0 \\mbox{ and } Y_i = 0 \\\\\n",
    "    0, & \\mbox{otherwise}\n",
    "   \\end{cases}\n",
    "$$\n",
    "\n",
    "<font color='blue'>Распишем подробнее, чему равна вероятность новой целевой переменной:</font> \n",
    "\n",
    "$$ \n",
    "P(Z=1|X = x) = \\\\\n",
    "= P(Z=1|X = x, W = 1) \\cdot P(W = 1|X = x) + \\\\\n",
    "+ P(Z=1|X = x, W = 0) \\cdot P(W = 0|X = x) = \\\\\n",
    "= P(Y=1|X = x, W = 1) \\cdot P(W = 1|X = x) + \\\\\n",
    "+ P(Y=0|X = x, W = 0) \\cdot P(W = 0|X = x).\n",
    "$$\n",
    "\n",
    "<font color='blue'>Выше мы обсуждали, что обучающая выборка для моделирования uplift собирается на основе рандомизированного разбиения части клиенской базы на тестовую и контрольную группы. Поэтому коммуникация $ W $ не может зависить от признаков клиента $ X_1, ..., X_m $. Принимая это, мы имеем: $ P(W | X_1, ..., X_m, ) = P(W) $ и </font> \n",
    "\n",
    "$$\n",
    "P(Z=1|X = x) = \\\\\n",
    "= P^T(Y=1|X = x) \\cdot P(W = 1) + \\\\\n",
    "+ P^C(Y=0|X = x) \\cdot P(W = 0)\n",
    "$$\n",
    "\n",
    "<font color='blue'>Также допустим, что $P(W = 1) = P(W = 0) = \\frac{1}{2}$, т.е. во время эксперимента контрольные и тестовые группы были разделены в равных пропорциях. Тогда получим следующее:</font> \n",
    "\n",
    "$$\n",
    "P(Z=1|X = x) = \\\\\n",
    "= P^T(Y=1|X = x) \\cdot \\frac{1}{2} + P^C(Y=0|X = x) \\cdot \\frac{1}{2} \\Rightarrow \\\\\n",
    "2 \\cdot P(Z=1|X = x) = \\\\\n",
    "= P^T(Y=1|X = x) + P^C(Y=0|X = x) = \\\\\n",
    "= P^T(Y=1|X = x) + 1 - P^C(Y=1|X = x) \\Rightarrow \\\\\n",
    "\\Rightarrow P^T(Y=1|X = x) - P^C(Y=1|X = x) = \\\\\n",
    " = uplift = 2 \\cdot P(Z=1|X = x) - 1\n",
    "$$\n",
    "\n",
    "<font color='blue'>Таким образом, увеличив вдвое прогноз нового таргета и вычтя из него единицу мы получим значение самого uplift'a, т.е.</font> \n",
    "\n",
    "$$\n",
    "uplift = 2 \\cdot P(Z=1) - 1\n",
    "$$\n",
    "\n",
    "<font color='blue'>Исходя из допущения описанного выше: $P(W = 1) = P(W = 0) = \\frac{1}{2}$, данный подход следует использовать только в случаях, когда количество клиентов, с которыми мы прокоммуницировлаи, равно количеству клиентов, с которыми коммуникации не было.</font> "
   ]
  },
  {
   "cell_type": "markdown",
   "id": "24fd00aa",
   "metadata": {},
   "source": [
    "## 2. Подходы с двумя моделями\n",
    "\n",
    "<font color='blue'>Подход с двумя моделями можно встретить почти в любой работе по uplift моделированию, он часто используется в качестве бейзлайна. Однако использование двух моделей может привести к некоторым неприятным последствиям: если для обучения будут использоваться принципиально разные модели или природа данных тестовой и контрольной групп будут сильно отличаться, то возвращаемые моделями скоры  будут не сопоставимы между собой. Вследствие чего расчет uplift будет не совсем корректным. Для избежания такого эффекта необходимо калибровать модели, чтобы их скоры можно было интерпертировать как вероятности. Калибровка вероятностей модели отлично описана в [документации scikit-learn](https://scikit-learn.org/stable/modules/calibration.html).</font> "
   ]
  },
  {
   "cell_type": "markdown",
   "id": "bfa48e40",
   "metadata": {},
   "source": [
    "### 2.1 Две независимые модели\n",
    "\n",
    "<font color='blue'>Как понятно из названия, подход заключается в моделировании условных вероятностей тестовой и контрольной групп отдельно. В статьях утверждается, что такой подход достаточно слабый, так как обе модели фокусируются на прогнозировании результата отдельно и поэтому могут пропустить \"более слабые\" различия в выборках.</font> \n",
    "\n",
    "<p align= \"center\">\n",
    "  <img src=\"https://raw.githubusercontent.com/maks-sh/scikit-uplift/master/docs/_static/images/TwoModels_vanila_RU.png\" alt=\"Two Models vanila\"/>\n",
    "</p>"
   ]
  },
  {
   "cell_type": "markdown",
   "id": "e72a0b86",
   "metadata": {},
   "source": [
    "### 2.2 Две зависимые модели\n",
    "\n",
    "<font color='blue'>Подход зависимого представления данных основан на методе цепочек классификаторов, первоначально разработанном для задач многоклассовой классификации. Идея состоит в том, что при наличии $L$ различных меток можно построить $L$ различных классификаторов, каждый из которых решает задачу бинарной классификации и в процессе обучения каждый следующий классификатор использует предсказания предыдущих в качестве дополнительных признаков. Авторы данного метода предложили использовать ту же идею для решения проблемы uplift моделирования в два этапа. В начале мы обучаем классификатор по контрольным данным: </font> \n",
    "$$\n",
    "P^C = P(Y=1| X, W = 0),\n",
    "$$\n",
    "<font color='blue'>затем исполним предсказания $P_C$ в качестве нового признака для обучения второго классификатора на тестовых данных, тем самым эффективно вводя зависимость между двумя наборами данных:</font> \n",
    "\n",
    "$$\n",
    "P^T =  P(Y=1| X, P_C(X), W = 1)\n",
    "$$\n",
    "\n",
    "<font color='blue'>Чтобы получить uplift для каждого наблюдения, вычислим разницу:\n",
    "</font> \n",
    "$$\n",
    "uplift(x_i) = P^T(x_i, P_C(x_i)) - P^C(x_i)\n",
    "$$\n",
    "\n",
    "<font color='blue'>Интуитивно второй классификатор изучает разницу между ожидаемым результатом в тесте и контроле, т.е. сам uplift.</font> \n",
    "\n",
    "<p align= \"center\">\n",
    "  <img src=\"https://raw.githubusercontent.com/maks-sh/scikit-uplift/master/docs/_static/images/TwoModels_ddr_control_RU.png\" alt=\"Two dependent models\"/>\n",
    "</p>\n",
    "\n",
    "<font color='blue'>Аналогичным образом можно сначала обучить классификатор $P^T$, а затем использовать его предсказания в качестве признака для классификатора $P^C$</font> "
   ]
  },
  {
   "cell_type": "markdown",
   "id": "bbf3ea37",
   "metadata": {},
   "source": [
    "ОК, на этом чужие мысли закончились, дальше пишу и рассуждаю сам."
   ]
  },
  {
   "cell_type": "markdown",
   "id": "bba7690f",
   "metadata": {},
   "source": [
    "Обучим все вышеописанные подходы к нахождению uplifta на XGBoost со стоковыми гиперпараметрами. Далее обучение будет идти на трейне, а тест на тесте. Гиперпараметры тюнить не будем, сравнивать XGBoost с другими моделями тоже не будем."
   ]
  },
  {
   "cell_type": "code",
   "execution_count": 31,
   "id": "b7471303",
   "metadata": {
    "scrolled": true
   },
   "outputs": [
    {
     "name": "stderr",
     "output_type": "stream",
     "text": [
      "/opt/conda/lib/python3.9/site-packages/xgboost/sklearn.py:1146: UserWarning: The use of label encoder in XGBClassifier is deprecated and will be removed in a future release. To remove this warning, do the following: 1) Pass option use_label_encoder=False when constructing XGBClassifier object; and 2) Encode your labels (y) as integers starting with 0, i.e. 0, 1, 2, ..., [num_class - 1].\n",
      "  warnings.warn(label_encoder_deprecation_msg, UserWarning)\n"
     ]
    },
    {
     "name": "stdout",
     "output_type": "stream",
     "text": [
      "[19:40:41] WARNING: ../src/learner.cc:1095: Starting in XGBoost 1.3.0, the default evaluation metric used with the objective 'binary:logistic' was changed from 'error' to 'logloss'. Explicitly set eval_metric if you'd like to restore the old behavior.\n"
     ]
    },
    {
     "name": "stderr",
     "output_type": "stream",
     "text": [
      "/opt/conda/lib/python3.9/site-packages/xgboost/sklearn.py:1146: UserWarning: The use of label encoder in XGBClassifier is deprecated and will be removed in a future release. To remove this warning, do the following: 1) Pass option use_label_encoder=False when constructing XGBClassifier object; and 2) Encode your labels (y) as integers starting with 0, i.e. 0, 1, 2, ..., [num_class - 1].\n",
      "  warnings.warn(label_encoder_deprecation_msg, UserWarning)\n"
     ]
    },
    {
     "name": "stdout",
     "output_type": "stream",
     "text": [
      "[19:40:42] WARNING: ../src/learner.cc:1095: Starting in XGBoost 1.3.0, the default evaluation metric used with the objective 'binary:logistic' was changed from 'error' to 'logloss'. Explicitly set eval_metric if you'd like to restore the old behavior.\n"
     ]
    },
    {
     "name": "stderr",
     "output_type": "stream",
     "text": [
      "/opt/conda/lib/python3.9/site-packages/xgboost/sklearn.py:1146: UserWarning: The use of label encoder in XGBClassifier is deprecated and will be removed in a future release. To remove this warning, do the following: 1) Pass option use_label_encoder=False when constructing XGBClassifier object; and 2) Encode your labels (y) as integers starting with 0, i.e. 0, 1, 2, ..., [num_class - 1].\n",
      "  warnings.warn(label_encoder_deprecation_msg, UserWarning)\n"
     ]
    },
    {
     "name": "stdout",
     "output_type": "stream",
     "text": [
      "[19:40:42] WARNING: ../src/learner.cc:1095: Starting in XGBoost 1.3.0, the default evaluation metric used with the objective 'binary:logistic' was changed from 'error' to 'logloss'. Explicitly set eval_metric if you'd like to restore the old behavior.\n",
      "[19:40:43] WARNING: ../src/learner.cc:1095: Starting in XGBoost 1.3.0, the default evaluation metric used with the objective 'binary:logistic' was changed from 'error' to 'logloss'. Explicitly set eval_metric if you'd like to restore the old behavior.\n"
     ]
    },
    {
     "name": "stderr",
     "output_type": "stream",
     "text": [
      "/opt/conda/lib/python3.9/site-packages/xgboost/sklearn.py:1146: UserWarning: The use of label encoder in XGBClassifier is deprecated and will be removed in a future release. To remove this warning, do the following: 1) Pass option use_label_encoder=False when constructing XGBClassifier object; and 2) Encode your labels (y) as integers starting with 0, i.e. 0, 1, 2, ..., [num_class - 1].\n",
      "  warnings.warn(label_encoder_deprecation_msg, UserWarning)\n"
     ]
    },
    {
     "name": "stdout",
     "output_type": "stream",
     "text": [
      "[19:40:43] WARNING: ../src/learner.cc:1095: Starting in XGBoost 1.3.0, the default evaluation metric used with the objective 'binary:logistic' was changed from 'error' to 'logloss'. Explicitly set eval_metric if you'd like to restore the old behavior.\n",
      "[19:40:43] WARNING: ../src/learner.cc:1095: Starting in XGBoost 1.3.0, the default evaluation metric used with the objective 'binary:logistic' was changed from 'error' to 'logloss'. Explicitly set eval_metric if you'd like to restore the old behavior.\n"
     ]
    },
    {
     "name": "stderr",
     "output_type": "stream",
     "text": [
      "/opt/conda/lib/python3.9/site-packages/xgboost/sklearn.py:1146: UserWarning: The use of label encoder in XGBClassifier is deprecated and will be removed in a future release. To remove this warning, do the following: 1) Pass option use_label_encoder=False when constructing XGBClassifier object; and 2) Encode your labels (y) as integers starting with 0, i.e. 0, 1, 2, ..., [num_class - 1].\n",
      "  warnings.warn(label_encoder_deprecation_msg, UserWarning)\n"
     ]
    },
    {
     "name": "stdout",
     "output_type": "stream",
     "text": [
      "[19:40:44] WARNING: ../src/learner.cc:1095: Starting in XGBoost 1.3.0, the default evaluation metric used with the objective 'binary:logistic' was changed from 'error' to 'logloss'. Explicitly set eval_metric if you'd like to restore the old behavior.\n",
      "[19:40:44] WARNING: ../src/learner.cc:1095: Starting in XGBoost 1.3.0, the default evaluation metric used with the objective 'binary:logistic' was changed from 'error' to 'logloss'. Explicitly set eval_metric if you'd like to restore the old behavior.\n"
     ]
    }
   ],
   "source": [
    "models_results = combine_models(X_train, y_train, treat_train,\n",
    "                                X_test, y_test, treat_test)"
   ]
  },
  {
   "cell_type": "markdown",
   "id": "7c76efd8",
   "metadata": {},
   "source": [
    "Считаем все модели, теперь зададимся вопросом, как сравнить качество этих моделей. Есть несколько метрик расчета, поговорим о каждой из них и выберем наиболее подходящуюю.\n",
    "\n",
    "- uplift@k - размер uplift на топ k процентах выборки. Такая метрика может пригодиться если известен бюджет для взаимодействия. Те если мы готовы прокоммуницировать только с 10% процентами пользователей, то uplift@k c параметром k = 0.1 даст нам нужный результат. \n",
    "- uplift by percentile - тоже самое что и uplift@k только теперь дается скор по персентилям, то есть повторяется тот же uplift@k только 10 раз для k=0.1, 0.2, .... 0.8, 0.9. \n",
    "- weighted average uplift. метрика которая дает единое значения uplifta на всей тестовой выборке. Считается как пишется, те берется средневзешенный аплифт от каждого персентиля.\n",
    "\n",
    "Порассуждаем что произойдет если выбрать лучшую модель по weighted average uplift. Проблема выбора такой модели может заключатся в следующем. Посмотрим на график, модели идеального мира.\n",
    "\n",
    "<p align=\"center\">\n",
    "  <img src=\"https://habrastorage.org/getpro/habr/upload_files/c1e/887/4fa/c1e8874faf20e57ed26d55d01ceb2e97.png\" alt=\"Ideal model\"/>\n",
    "</p>\n",
    "\n",
    "Мы видим, что uplift уменьшается и уходит в минус. А их куммулятивное значение непонятно куда стремится. Честно не понятно, когда такую метрику имеет смысл использовать, ведь если мы ориентируемся делать рассылку на всю выборку, то и нет смысла делать аплифт моделирования, достаточно просто убедиться, что рекламная кампания работает.\n",
    "\n",
    "Если ориентироваться по картинке, то до 30 перцентиля, как раз выбирается группа клиентов типа убеждаемые. Тогда, если  взять uplift k=0.3 , то мы сможем сравнить аплифт всех моделей по группе убеждаемые, так мы точно достигнем максимального профита от кампании.\n",
    "\n",
    "Теперь делаем выбор в пользу uplift@k (k=0.3), так как если будем брать оценку всей модели через  weighted average uplift, то и применять ее будем на всю выборку, а в таком случае, не было смысла делать какое либо моделирование, ведь мы и так убедились в самом начале, что эффект от кампании есть, он равен 4.6 процента, если рассылать всем без разбора."
   ]
  },
  {
   "cell_type": "code",
   "execution_count": 32,
   "id": "62e285ec",
   "metadata": {},
   "outputs": [],
   "source": [
    "models_results_upl30 = uplift_at_k_best(models_results,\n",
    "                                        y_test, treat_test)"
   ]
  },
  {
   "cell_type": "code",
   "execution_count": 33,
   "id": "32b2b8df",
   "metadata": {},
   "outputs": [
    {
     "data": {
      "text/html": [
       "<div>\n",
       "<style scoped>\n",
       "    .dataframe tbody tr th:only-of-type {\n",
       "        vertical-align: middle;\n",
       "    }\n",
       "\n",
       "    .dataframe tbody tr th {\n",
       "        vertical-align: top;\n",
       "    }\n",
       "\n",
       "    .dataframe thead th {\n",
       "        text-align: right;\n",
       "    }\n",
       "</style>\n",
       "<table border=\"1\" class=\"dataframe\">\n",
       "  <thead>\n",
       "    <tr style=\"text-align: right;\">\n",
       "      <th></th>\n",
       "      <th>approach</th>\n",
       "      <th>uplift_at_30</th>\n",
       "    </tr>\n",
       "  </thead>\n",
       "  <tbody>\n",
       "    <tr>\n",
       "      <th>2</th>\n",
       "      <td>TwoModels_vanilla_XGBRFClassifier</td>\n",
       "      <td>0.074089</td>\n",
       "    </tr>\n",
       "    <tr>\n",
       "      <th>3</th>\n",
       "      <td>TwoModels_ddr_control_XGBRFClassifier</td>\n",
       "      <td>0.070803</td>\n",
       "    </tr>\n",
       "    <tr>\n",
       "      <th>4</th>\n",
       "      <td>TwoModels_ddr_treatment_XGBRFClassifier</td>\n",
       "      <td>0.069857</td>\n",
       "    </tr>\n",
       "    <tr>\n",
       "      <th>1</th>\n",
       "      <td>ClassTransformation_XGBRFClassifier</td>\n",
       "      <td>0.069407</td>\n",
       "    </tr>\n",
       "    <tr>\n",
       "      <th>0</th>\n",
       "      <td>SoloModel_XGBRFClassifier</td>\n",
       "      <td>0.066047</td>\n",
       "    </tr>\n",
       "  </tbody>\n",
       "</table>\n",
       "</div>"
      ],
      "text/plain": [
       "                                  approach  uplift_at_30\n",
       "2        TwoModels_vanilla_XGBRFClassifier      0.074089\n",
       "3    TwoModels_ddr_control_XGBRFClassifier      0.070803\n",
       "4  TwoModels_ddr_treatment_XGBRFClassifier      0.069857\n",
       "1      ClassTransformation_XGBRFClassifier      0.069407\n",
       "0                SoloModel_XGBRFClassifier      0.066047"
      ]
     },
     "execution_count": 33,
     "metadata": {},
     "output_type": "execute_result"
    }
   ],
   "source": [
    "models_results_upl30"
   ]
  },
  {
   "cell_type": "markdown",
   "id": "120e9f2a",
   "metadata": {},
   "source": [
    "TwoModels_ddr_control на XGBoost показала лучший результат на метрике uplift@k, k=0.3\n",
    "\n",
    "Попробуем построить графический аналог метрики uplift by percentile"
   ]
  },
  {
   "cell_type": "code",
   "execution_count": 34,
   "id": "44d9ef75",
   "metadata": {},
   "outputs": [
    {
     "name": "stderr",
     "output_type": "stream",
     "text": [
      "/opt/conda/lib/python3.9/site-packages/numpy/core/_asarray.py:102: VisibleDeprecationWarning: Creating an ndarray from ragged nested sequences (which is a list-or-tuple of lists-or-tuples-or ndarrays with different lengths or shapes) is deprecated. If you meant to do this, you must specify 'dtype=object' when creating the ndarray.\n",
      "  return array(a, dtype, copy=False, order=order)\n"
     ]
    },
    {
     "data": {
      "text/plain": [
       "<AxesSubplot:title={'center':'Uplift by percentile\\nweighted average uplift = 0.0441'}, xlabel='Percentile', ylabel='Uplift = treatment response rate - control response rate'>"
      ]
     },
     "execution_count": 34,
     "metadata": {},
     "output_type": "execute_result"
    },
    {
     "data": {
      "image/png": "[encoded data removed]",
      "text/plain": [
       "<Figure size 576x432 with 2 Axes>"
      ]
     },
     "metadata": {
      "needs_background": "light"
     },
     "output_type": "display_data"
    },
    {
     "data": {
      "image/png": "[encoded data removed]",
      "text/plain": [
       "<Figure size 576x432 with 1 Axes>"
      ]
     },
     "metadata": {
      "needs_background": "light"
     },
     "output_type": "display_data"
    }
   ],
   "source": [
    "plot_uplift_by_percentile(y_test, models_results['uplift'][3], treat_test,\n",
    "                          strategy='overall', kind='bar', bins=20)\n",
    "plot_uplift_by_percentile(y_test, models_results['uplift'][3], treat_test,\n",
    "                          strategy='overall', kind='line', bins=20)"
   ]
  },
  {
   "cell_type": "markdown",
   "id": "5bf94cb0",
   "metadata": {},
   "source": [
    "Можно сказать, что наша модель не смогла идеально найти группу клиентов, которые переходили бы на сайт, только после взаимодействия. Больше похоже что первые 65% отранжированных пользователей, дадут аплифт по переходам если сделать на них рассылку. Наблюдается большой скачек в переходе для клиентов отранжированных от 75 до 80% для обеих групп, но тут в целом выделены клиенты, которые бы перешли на этот сайт, возможно это связанно с каналом коммуникации, а не наличием взамодействия."
   ]
  },
  {
   "cell_type": "markdown",
   "id": "e93b3a8b",
   "metadata": {},
   "source": [
    "В качестве результата выгрузим модель uplifta"
   ]
  },
  {
   "cell_type": "code",
   "execution_count": 35,
   "id": "82869036",
   "metadata": {},
   "outputs": [
    {
     "data": {
      "text/plain": [
       "['finalized_model.sav']"
      ]
     },
     "execution_count": 35,
     "metadata": {},
     "output_type": "execute_result"
    }
   ],
   "source": [
    "filename = 'finalized_model.sav'\n",
    "joblib.dump(models_results['model'][3], filename)"
   ]
  }
 ],
 "metadata": {
  "kernelspec": {
   "display_name": "Python 3 (ipykernel)",
   "language": "python",
   "name": "python3"
  },
  "language_info": {
   "codemirror_mode": {
    "name": "ipython",
    "version": 3
   },
   "file_extension": ".py",
   "mimetype": "text/x-python",
   "name": "python",
   "nbconvert_exporter": "python",
   "pygments_lexer": "ipython3",
   "version": "3.9.6"
  }
 },
 "nbformat": 4,
 "nbformat_minor": 5
}
